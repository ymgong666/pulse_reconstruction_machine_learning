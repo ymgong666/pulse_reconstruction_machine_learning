{
  "nbformat": 4,
  "nbformat_minor": 0,
  "metadata": {
    "colab": {
      "name": "Pulse_FWHM_Classifier.ipynb",
      "provenance": []
    },
    "kernelspec": {
      "name": "python3",
      "display_name": "Python 3"
    },
    "language_info": {
      "name": "python"
    },
    "widgets": {
      "application/vnd.jupyter.widget-state+json": {
        "0f888f9ad31b4eb39e01d8c0124713ca": {
          "model_module": "@jupyter-widgets/controls",
          "model_name": "HBoxModel",
          "state": {
            "_view_name": "HBoxView",
            "_dom_classes": [],
            "_model_name": "HBoxModel",
            "_view_module": "@jupyter-widgets/controls",
            "_model_module_version": "1.5.0",
            "_view_count": null,
            "_view_module_version": "1.5.0",
            "box_style": "",
            "layout": "IPY_MODEL_3601940662514ace8a158ad1992dddac",
            "_model_module": "@jupyter-widgets/controls",
            "children": [
              "IPY_MODEL_e9e0698668af4ff495ef34fdec8d4f8f",
              "IPY_MODEL_f8dd9e84eaba400d80d89b8a8d50d03d"
            ]
          }
        },
        "3601940662514ace8a158ad1992dddac": {
          "model_module": "@jupyter-widgets/base",
          "model_name": "LayoutModel",
          "state": {
            "_view_name": "LayoutView",
            "grid_template_rows": null,
            "right": null,
            "justify_content": null,
            "_view_module": "@jupyter-widgets/base",
            "overflow": null,
            "_model_module_version": "1.2.0",
            "_view_count": null,
            "flex_flow": null,
            "width": null,
            "min_width": null,
            "border": null,
            "align_items": null,
            "bottom": null,
            "_model_module": "@jupyter-widgets/base",
            "top": null,
            "grid_column": null,
            "overflow_y": null,
            "overflow_x": null,
            "grid_auto_flow": null,
            "grid_area": null,
            "grid_template_columns": null,
            "flex": null,
            "_model_name": "LayoutModel",
            "justify_items": null,
            "grid_row": null,
            "max_height": null,
            "align_content": null,
            "visibility": null,
            "align_self": null,
            "height": null,
            "min_height": null,
            "padding": null,
            "grid_auto_rows": null,
            "grid_gap": null,
            "max_width": null,
            "order": null,
            "_view_module_version": "1.2.0",
            "grid_template_areas": null,
            "object_position": null,
            "object_fit": null,
            "grid_auto_columns": null,
            "margin": null,
            "display": null,
            "left": null
          }
        },
        "e9e0698668af4ff495ef34fdec8d4f8f": {
          "model_module": "@jupyter-widgets/controls",
          "model_name": "FloatProgressModel",
          "state": {
            "_view_name": "ProgressView",
            "style": "IPY_MODEL_10375c058d7f466abbf30053124018c0",
            "_dom_classes": [],
            "description": "100%",
            "_model_name": "FloatProgressModel",
            "bar_style": "success",
            "max": 3000,
            "_view_module": "@jupyter-widgets/controls",
            "_model_module_version": "1.5.0",
            "value": 3000,
            "_view_count": null,
            "_view_module_version": "1.5.0",
            "orientation": "horizontal",
            "min": 0,
            "description_tooltip": null,
            "_model_module": "@jupyter-widgets/controls",
            "layout": "IPY_MODEL_9308b25343574496b322a2f988304a62"
          }
        },
        "f8dd9e84eaba400d80d89b8a8d50d03d": {
          "model_module": "@jupyter-widgets/controls",
          "model_name": "HTMLModel",
          "state": {
            "_view_name": "HTMLView",
            "style": "IPY_MODEL_bf1ec281e48643ef958c7ac3107c13bb",
            "_dom_classes": [],
            "description": "",
            "_model_name": "HTMLModel",
            "placeholder": "​",
            "_view_module": "@jupyter-widgets/controls",
            "_model_module_version": "1.5.0",
            "value": " 3000/3000 [44:24&lt;00:00,  1.13it/s]",
            "_view_count": null,
            "_view_module_version": "1.5.0",
            "description_tooltip": null,
            "_model_module": "@jupyter-widgets/controls",
            "layout": "IPY_MODEL_3315864c99f94ad0af5ba039cffecfa3"
          }
        },
        "10375c058d7f466abbf30053124018c0": {
          "model_module": "@jupyter-widgets/controls",
          "model_name": "ProgressStyleModel",
          "state": {
            "_view_name": "StyleView",
            "_model_name": "ProgressStyleModel",
            "description_width": "initial",
            "_view_module": "@jupyter-widgets/base",
            "_model_module_version": "1.5.0",
            "_view_count": null,
            "_view_module_version": "1.2.0",
            "bar_color": null,
            "_model_module": "@jupyter-widgets/controls"
          }
        },
        "9308b25343574496b322a2f988304a62": {
          "model_module": "@jupyter-widgets/base",
          "model_name": "LayoutModel",
          "state": {
            "_view_name": "LayoutView",
            "grid_template_rows": null,
            "right": null,
            "justify_content": null,
            "_view_module": "@jupyter-widgets/base",
            "overflow": null,
            "_model_module_version": "1.2.0",
            "_view_count": null,
            "flex_flow": null,
            "width": null,
            "min_width": null,
            "border": null,
            "align_items": null,
            "bottom": null,
            "_model_module": "@jupyter-widgets/base",
            "top": null,
            "grid_column": null,
            "overflow_y": null,
            "overflow_x": null,
            "grid_auto_flow": null,
            "grid_area": null,
            "grid_template_columns": null,
            "flex": null,
            "_model_name": "LayoutModel",
            "justify_items": null,
            "grid_row": null,
            "max_height": null,
            "align_content": null,
            "visibility": null,
            "align_self": null,
            "height": null,
            "min_height": null,
            "padding": null,
            "grid_auto_rows": null,
            "grid_gap": null,
            "max_width": null,
            "order": null,
            "_view_module_version": "1.2.0",
            "grid_template_areas": null,
            "object_position": null,
            "object_fit": null,
            "grid_auto_columns": null,
            "margin": null,
            "display": null,
            "left": null
          }
        },
        "bf1ec281e48643ef958c7ac3107c13bb": {
          "model_module": "@jupyter-widgets/controls",
          "model_name": "DescriptionStyleModel",
          "state": {
            "_view_name": "StyleView",
            "_model_name": "DescriptionStyleModel",
            "description_width": "",
            "_view_module": "@jupyter-widgets/base",
            "_model_module_version": "1.5.0",
            "_view_count": null,
            "_view_module_version": "1.2.0",
            "_model_module": "@jupyter-widgets/controls"
          }
        },
        "3315864c99f94ad0af5ba039cffecfa3": {
          "model_module": "@jupyter-widgets/base",
          "model_name": "LayoutModel",
          "state": {
            "_view_name": "LayoutView",
            "grid_template_rows": null,
            "right": null,
            "justify_content": null,
            "_view_module": "@jupyter-widgets/base",
            "overflow": null,
            "_model_module_version": "1.2.0",
            "_view_count": null,
            "flex_flow": null,
            "width": null,
            "min_width": null,
            "border": null,
            "align_items": null,
            "bottom": null,
            "_model_module": "@jupyter-widgets/base",
            "top": null,
            "grid_column": null,
            "overflow_y": null,
            "overflow_x": null,
            "grid_auto_flow": null,
            "grid_area": null,
            "grid_template_columns": null,
            "flex": null,
            "_model_name": "LayoutModel",
            "justify_items": null,
            "grid_row": null,
            "max_height": null,
            "align_content": null,
            "visibility": null,
            "align_self": null,
            "height": null,
            "min_height": null,
            "padding": null,
            "grid_auto_rows": null,
            "grid_gap": null,
            "max_width": null,
            "order": null,
            "_view_module_version": "1.2.0",
            "grid_template_areas": null,
            "object_position": null,
            "object_fit": null,
            "grid_auto_columns": null,
            "margin": null,
            "display": null,
            "left": null
          }
        }
      }
    }
  },
  "cells": [
    {
      "cell_type": "code",
      "metadata": {
        "id": "v__KVqAzA7vQ"
      },
      "source": [
        "import tensorflow as tf\n",
        "import sys\n",
        "import matplotlib.pyplot as plt\n",
        "%matplotlib inline\n",
        "import numpy as np\n",
        "import torchvision\n",
        "from torchvision import models\n",
        "import torch\n",
        "import torch.nn as nn\n",
        "import os\n",
        "import pandas as pd\n",
        "import torchvision.transforms as transforms\n",
        "import csv\n",
        "import math\n",
        "import torch.nn.functional as F\n",
        "import itertools\n",
        "import random"
      ],
      "execution_count": null,
      "outputs": []
    },
    {
      "cell_type": "code",
      "metadata": {
        "colab": {
          "base_uri": "https://localhost:8080/"
        },
        "id": "RZ5QuOhYzFYd",
        "outputId": "0f64db56-6a87-4364-bc69-371f26ecd0c1"
      },
      "source": [
        "from google.colab import drive\n",
        "drive.mount('/content/drive')"
      ],
      "execution_count": null,
      "outputs": [
        {
          "output_type": "stream",
          "text": [
            "Mounted at /content/drive\n"
          ],
          "name": "stdout"
        }
      ]
    },
    {
      "cell_type": "code",
      "metadata": {
        "id": "A2StxjVqXdW_"
      },
      "source": [
        "\n",
        "class CNN(nn.Module):\n",
        "    \"\"\"\n",
        "    Convolutional Neural Network.\n",
        "    \"\"\"\n",
        "    def __init__(self):\n",
        "        super().__init__()\n",
        "\n",
        "        # define layers\n",
        "        self.mr1_11 = nn.Conv2d(3, 3, 11, stride=2, padding=37)  # multires layer 1 -> 11x11 filter\n",
        "        self.mr1_7 = nn.Conv2d(3, 3, 7, stride=2, padding=35)  # multires layer 1 -> 7x7 filter\n",
        "        self.mr1_5 = nn.Conv2d(3, 3, 5, stride=2, padding=34)  # multires layer 1 -> 5x5 filter\n",
        "        self.mr1_3 = nn.Conv2d(3, 3, 3, stride=2, padding=33)  # multires layer 1 -> 3x3 filter\n",
        "        self.conv1 = nn.Conv2d(12, 24, 5, stride=2, padding=2)  # convolutional layer 1\n",
        "        self.mr2_11 = nn.Conv2d(24, 24, 11, stride=2, padding=21)  # multires layer 2 -> 11x11 filter\n",
        "        self.mr2_7 = nn.Conv2d(24, 24, 7, stride=2, padding=19)  # multires layer 2 -> 7x7 filter\n",
        "        self.mr2_5 = nn.Conv2d(24, 24, 5, stride=2, padding=18)  # multires layer 2 -> 5x5 filter\n",
        "        self.mr2_3 = nn.Conv2d(24, 24, 3, stride=2, padding=17)  # multires layer 2 -> 3x3 filter\n",
        "        self.conv2 = nn.Conv2d(96, 192, 5, stride=2, padding=2)  # convolutional layer 2\n",
        "        self.mr3_11 = nn.Conv2d(192, 192, 11, stride=2, padding=13)  # multires layer 3 -> 11x11 filter\n",
        "        self.mr3_7 = nn.Conv2d(192, 192, 7, stride=2, padding=11)  # multires layer 3 -> 7x7 filter\n",
        "        self.mr3_5 = nn.Conv2d(192, 192, 5, stride=2, padding=10)  # multires layer 3 -> 5x5 filter\n",
        "        self.mr3_3 = nn.Conv2d(192, 192, 3, stride=2, padding=9)  # multires layer 3 -> 3x3 filter\n",
        "        self.conv3 = nn.Conv2d(768, 1536, 5, stride=2, padding=2)  # convolutional layer 3\n",
        "        self.fc1 = nn.Linear(1536 * 8 * 8, 512)  # fully connected layer 1\n",
        "        self.fc2 = nn.Linear(512, 10) # final fully connected layer (output layer for one-hot prediction)\n",
        "\n",
        "        self.init_weights()\n",
        "\n",
        "    def init_weights(self):\n",
        "        for conv in [self.conv1, self.conv2, self.conv3]:\n",
        "            C_in = conv.weight.size(1)\n",
        "            nn.init.normal_(conv.weight, 0.0, 1 / math.sqrt(5 * 5 * C_in))\n",
        "            nn.init.constant_(conv.bias, 0.0)\n",
        "\n",
        "        for mr11 in [self.mr1_11, self.mr2_11, self.mr3_11]:\n",
        "            C_in = mr11.weight.size(1)\n",
        "            nn.init.normal_(mr11.weight, 0.0, 1 / math.sqrt(11 * 11 * C_in))\n",
        "            nn.init.constant_(mr11.bias, 0.0)\n",
        "\n",
        "        for mr7 in [self.mr1_7, self.mr2_7, self.mr3_7]:\n",
        "            C_in = mr7.weight.size(1)\n",
        "            nn.init.normal_(mr7.weight, 0.0, 1 / math.sqrt(7 * 7 * C_in))\n",
        "            nn.init.constant_(mr7.bias, 0.0)\n",
        "\n",
        "        for mr5 in [self.mr1_5, self.mr2_5, self.mr3_5]:\n",
        "            C_in = mr5.weight.size(1)\n",
        "            nn.init.normal_(mr5.weight, 0.0, 1 / math.sqrt(5 * 5 * C_in))\n",
        "            nn.init.constant_(mr5.bias, 0.0)       \n",
        "\n",
        "        for mr3 in [self.mr1_3, self.mr2_3, self.mr3_3]:\n",
        "            C_in = mr3.weight.size(1)\n",
        "            nn.init.normal_(mr3.weight, 0.0, 1 / math.sqrt(3 * 3 * C_in))\n",
        "            nn.init.constant_(mr3.bias, 0.0)\n",
        "\n",
        "        # initialize parameters for fully connected layers\n",
        "        for fc in [self.fc1, self.fc2]:\n",
        "            F_in = fc.weight.size(1)\n",
        "            nn.init.normal_(fc.weight, 0.0, 1 / math.sqrt(F_in))\n",
        "            nn.init.constant_(fc.bias, 0.0)\n",
        "\n",
        "\n",
        "    def forward(self, x):\n",
        "        N, C, H, W = x.shape\n",
        "        \n",
        "\n",
        "        # forward pass of image through the network\n",
        "        z1 = self.mr1_11(x)\n",
        "        z2 = self.mr1_7(x)\n",
        "        z3 = self.mr1_5(x)\n",
        "        z4 = self.mr1_3(x)\n",
        "        z = F.relu(torch.cat((z1,z2,z3,z4),dim=1))\n",
        "\n",
        "        z = F.relu(self.conv1(z))\n",
        "        z5 = self.mr2_11(z)\n",
        "        z6 = self.mr2_7(z)\n",
        "        z7 = self.mr2_5(z)\n",
        "        z8 = self.mr2_3(z)\n",
        "        z = F.relu(torch.cat((z5,z6,z7,z8),dim=1))\n",
        "\n",
        "        z = F.relu(self.conv2(z))\n",
        "        z9 = self.mr3_11(z)\n",
        "        z10 = self.mr3_7(z)\n",
        "        z11 = self.mr3_5(z)\n",
        "        z12 = self.mr3_3(z)\n",
        "        z = F.relu(torch.cat((z9,z10,z11,z12),dim=1))\n",
        "\n",
        "        z = F.relu(self.conv3(z))\n",
        "        z = z.view(-1, 1536 * 8 * 8)\n",
        "        z = F.relu(self.fc1(z))\n",
        "        z = self.fc2(z)\n",
        "\n",
        "        return z\n",
        "\n",
        "\n",
        "def count_parameters(model):\n",
        "    return sum(p.numel() for p in model.parameters() if p.requires_grad)"
      ],
      "execution_count": null,
      "outputs": []
    },
    {
      "cell_type": "code",
      "metadata": {
        "colab": {
          "base_uri": "https://localhost:8080/"
        },
        "id": "k59rhiRGBLfP",
        "outputId": "9debcbb9-1997-4ce4-90cb-aa09b9cac827"
      },
      "source": [
        "def load_pretrained(dict_path):\n",
        "\n",
        "    Resnet18 = models.resnet18(pretrained=False)\n",
        "    if (dict_path != None):\n",
        "        Resnet18.load_state_dict(torch.load(dict_path))\n",
        "    for param in Resnet18.parameters():\n",
        "        param.requires_grad = True\n",
        "    n_inputs = Resnet18.fc.in_features\n",
        "    Resnet18.fc = torch.nn.Linear(512,1000)\n",
        "    return Resnet18\n",
        "\n",
        "def restore_checkpoint(model, checkpoint_dir, cuda=False, force=False, pretrain=False):\n",
        "    \"\"\"\n",
        "    If a checkpoint exists, restores the PyTorch model from the checkpoint.\n",
        "    Returns the model, the current epoch, and training losses.\n",
        "    \"\"\"\n",
        "    def get_epoch(cp):\n",
        "        return int(cp.split('epoch=')[-1].split('.checkpoint.pth.tar')[0])\n",
        "\n",
        "    if not os.path.exists(checkpoint_dir):\n",
        "        os.makedirs(checkpoint_dir)\n",
        "    cp_files = [file_ for file_ in os.listdir(checkpoint_dir)\n",
        "                if file_.startswith('epoch=') and file_.endswith('.checkpoint.pth.tar')]\n",
        "    cp_files.sort(key=lambda x: get_epoch(x))\n",
        "\n",
        "    if not cp_files:\n",
        "        print('No saved model parameters found')\n",
        "        if force:\n",
        "            raise Exception('Checkpoint not found')\n",
        "        else:\n",
        "            return model, 0, []\n",
        "\n",
        "    # Find latest epoch\n",
        "    epochs = [get_epoch(cp) for cp in cp_files]\n",
        "\n",
        "    if not force:\n",
        "        epochs = [0] + epochs\n",
        "        print('Which epoch to load from? Choose from epochs below:')\n",
        "        print(epochs)\n",
        "        print('Enter 0 to train from scratch.')\n",
        "        print(\">> \", end='')\n",
        "        inp_epoch = int(input())\n",
        "        if inp_epoch not in epochs:\n",
        "            raise Exception(\"Invalid epoch number\")\n",
        "        if inp_epoch == 0:\n",
        "            print(\"Checkpoint not loaded\")\n",
        "            clear_checkpoint(checkpoint_dir)\n",
        "            return model, 0, []\n",
        "    else:\n",
        "        print('Which epoch to load from? Choose from epochs below:')\n",
        "        print(epochs)\n",
        "        print(\">> \", end='')\n",
        "        inp_epoch = int(input())\n",
        "        if inp_epoch not in epochs:\n",
        "            raise Exception(\"Invalid epoch number\")\n",
        "\n",
        "    filename = os.path.join(checkpoint_dir, 'epoch={}.checkpoint.pth.tar'.format(inp_epoch))\n",
        "\n",
        "    print(\"Loading from checkpoint {}\".format(filename))\n",
        "\n",
        "    if cuda:\n",
        "        checkpoint = torch.load(filename)\n",
        "    else:\n",
        "        # Load GPU model on CPU\n",
        "        checkpoint = torch.load(filename, map_location=lambda storage, loc: storage)\n",
        "\n",
        "    try:\n",
        "        stats = checkpoint['stats']\n",
        "        if pretrain:\n",
        "            model.load_state_dict(checkpoint['state_dict'], strict=False)\n",
        "        else:\n",
        "            model.load_state_dict(checkpoint['state_dict'])\n",
        "        print(\"=> Successfully restored checkpoint (trained for {} epochs)\".format(checkpoint['epoch']))\n",
        "    except:\n",
        "        print(\"=> Checkpoint not successfully restored\")\n",
        "        raise\n",
        "\n",
        "    return model, inp_epoch, stats\n",
        "\n",
        "config = {\n",
        "        'batch_size': 24,\n",
        "        'ckpt_path': '/content/drive/My Drive/MachineLearningProject2020/checkpoints_Multires_classifier/one_hot',\n",
        "        'plot_name': 'Transfer_4e-2_CNN',\n",
        "        'dict_path': '/content/drive/MyDrive/ResNet18.pt',\n",
        "        'num_epoch': 40,\n",
        "        'learning_rate': 4e-4,\n",
        "}\n",
        "model = CNN()\n",
        "model = model.double()\n",
        "print('Loading model...') \n",
        "force = config['ckpt_force'] if 'ckpt_force' in config else False\n",
        "model, start_epoch, stats = restore_checkpoint(model, config['ckpt_path'], force=force)\n",
        "model = model.double()"
      ],
      "execution_count": null,
      "outputs": [
        {
          "output_type": "stream",
          "text": [
            "Loading model...\n",
            "Which epoch to load from? Choose from epochs below:\n",
            "[0, 1, 2, 3, 4, 5, 6, 7, 8, 9, 10, 11, 12, 13, 14, 15, 16, 17, 18, 19, 20, 21, 22, 23, 24, 25]\n",
            "Enter 0 to train from scratch.\n",
            ">> 9\n",
            "Loading from checkpoint /content/drive/My Drive/MachineLearningProject2020/checkpoints_Multires_classifier/one_hot/epoch=9.checkpoint.pth.tar\n",
            "=> Successfully restored checkpoint (trained for 9 epochs)\n"
          ],
          "name": "stdout"
        }
      ]
    },
    {
      "cell_type": "code",
      "metadata": {
        "id": "BC3npy1eFI5f",
        "colab": {
          "base_uri": "https://localhost:8080/"
        },
        "outputId": "6e773ac8-0447-4a06-ab60-5758212983b9"
      },
      "source": [
        "df = pd.read_pickle('/content/drive/MyDrive/MachineLearningProject2020/FROG_uniform_pulse_duration/Pyret_Labels_for_CNN_duration_2000_bin1_14.pkl')\n",
        "FROG = np.tile(np.expand_dims(df.iloc[0,1][1898,:,:],axis = 2),[1,1,3])\n",
        "true_label = df.iloc[0,2][1898]\n",
        "FROG.shape\n",
        "print(true_label)"
      ],
      "execution_count": null,
      "outputs": [
        {
          "output_type": "stream",
          "text": [
            "14.329503236982058\n"
          ],
          "name": "stdout"
        }
      ]
    },
    {
      "cell_type": "code",
      "metadata": {
        "id": "7aRF4B4rBept"
      },
      "source": [
        "def predict_fn(FROG1):\n",
        "    FROG1 = np.tile(np.expand_dims(FROG1[:,:,:,1],axis = 1),[1,3,1,1]) \n",
        "    FROG1 = torch.tensor(FROG1)\n",
        "    return model(FROG1).detach().numpy()\n"
      ],
      "execution_count": null,
      "outputs": []
    },
    {
      "cell_type": "code",
      "metadata": {
        "colab": {
          "base_uri": "https://localhost:8080/"
        },
        "id": "fqxPaKL6D8Bz",
        "outputId": "1a8a007e-e9e3-4461-e848-4f8063e72af1"
      },
      "source": [
        "\n",
        "def predict_fn_max(FROG1):\n",
        "    FROG1 = np.tile(np.expand_dims(np.expand_dims(FROG1[:,:,1],axis = 0),axis = 0),[1,3,1,1]) \n",
        "    FROG1 = torch.tensor(FROG1)\n",
        "    return model(FROG1).detach().numpy()\n",
        "print(predict_fn_max(FROG))\n",
        "print(np.argmax(predict_fn_max(FROG)))\n"
      ],
      "execution_count": null,
      "outputs": [
        {
          "output_type": "stream",
          "text": [
            "[[ -9.89012743 -10.47977529 -13.611941   -21.9399045  -10.56857395\n",
            "   -8.76146738  -2.84455796   1.08980947   4.81445213   5.70791543]]\n",
            "9\n"
          ],
          "name": "stdout"
        }
      ]
    },
    {
      "cell_type": "code",
      "metadata": {
        "colab": {
          "base_uri": "https://localhost:8080/"
        },
        "id": "s-daa3ZL7Wed",
        "outputId": "1040575a-52c2-4ffd-acec-ec46a24c4113"
      },
      "source": [
        "!pip install lime"
      ],
      "execution_count": null,
      "outputs": [
        {
          "output_type": "stream",
          "text": [
            "Collecting lime\n",
            "\u001b[?25l  Downloading https://files.pythonhosted.org/packages/f5/86/91a13127d83d793ecb50eb75e716f76e6eda809b6803c5a4ff462339789e/lime-0.2.0.1.tar.gz (275kB)\n",
            "\r\u001b[K     |█▏                              | 10kB 14.4MB/s eta 0:00:01\r\u001b[K     |██▍                             | 20kB 7.8MB/s eta 0:00:01\r\u001b[K     |███▋                            | 30kB 5.6MB/s eta 0:00:01\r\u001b[K     |████▊                           | 40kB 5.1MB/s eta 0:00:01\r\u001b[K     |██████                          | 51kB 2.7MB/s eta 0:00:01\r\u001b[K     |███████▏                        | 61kB 3.0MB/s eta 0:00:01\r\u001b[K     |████████▎                       | 71kB 3.2MB/s eta 0:00:01\r\u001b[K     |█████████▌                      | 81kB 3.4MB/s eta 0:00:01\r\u001b[K     |██████████▊                     | 92kB 3.7MB/s eta 0:00:01\r\u001b[K     |███████████▉                    | 102kB 3.8MB/s eta 0:00:01\r\u001b[K     |█████████████                   | 112kB 3.8MB/s eta 0:00:01\r\u001b[K     |██████████████▎                 | 122kB 3.8MB/s eta 0:00:01\r\u001b[K     |███████████████▌                | 133kB 3.8MB/s eta 0:00:01\r\u001b[K     |████████████████▋               | 143kB 3.8MB/s eta 0:00:01\r\u001b[K     |█████████████████▉              | 153kB 3.8MB/s eta 0:00:01\r\u001b[K     |███████████████████             | 163kB 3.8MB/s eta 0:00:01\r\u001b[K     |████████████████████▏           | 174kB 3.8MB/s eta 0:00:01\r\u001b[K     |█████████████████████▍          | 184kB 3.8MB/s eta 0:00:01\r\u001b[K     |██████████████████████▋         | 194kB 3.8MB/s eta 0:00:01\r\u001b[K     |███████████████████████▊        | 204kB 3.8MB/s eta 0:00:01\r\u001b[K     |█████████████████████████       | 215kB 3.8MB/s eta 0:00:01\r\u001b[K     |██████████████████████████▏     | 225kB 3.8MB/s eta 0:00:01\r\u001b[K     |███████████████████████████▍    | 235kB 3.8MB/s eta 0:00:01\r\u001b[K     |████████████████████████████▌   | 245kB 3.8MB/s eta 0:00:01\r\u001b[K     |█████████████████████████████▊  | 256kB 3.8MB/s eta 0:00:01\r\u001b[K     |███████████████████████████████ | 266kB 3.8MB/s eta 0:00:01\r\u001b[K     |████████████████████████████████| 276kB 3.8MB/s \n",
            "\u001b[?25hRequirement already satisfied: matplotlib in /usr/local/lib/python3.7/dist-packages (from lime) (3.2.2)\n",
            "Requirement already satisfied: numpy in /usr/local/lib/python3.7/dist-packages (from lime) (1.19.5)\n",
            "Requirement already satisfied: scipy in /usr/local/lib/python3.7/dist-packages (from lime) (1.4.1)\n",
            "Requirement already satisfied: tqdm in /usr/local/lib/python3.7/dist-packages (from lime) (4.41.1)\n",
            "Requirement already satisfied: scikit-learn>=0.18 in /usr/local/lib/python3.7/dist-packages (from lime) (0.22.2.post1)\n",
            "Requirement already satisfied: scikit-image>=0.12 in /usr/local/lib/python3.7/dist-packages (from lime) (0.16.2)\n",
            "Requirement already satisfied: kiwisolver>=1.0.1 in /usr/local/lib/python3.7/dist-packages (from matplotlib->lime) (1.3.1)\n",
            "Requirement already satisfied: pyparsing!=2.0.4,!=2.1.2,!=2.1.6,>=2.0.1 in /usr/local/lib/python3.7/dist-packages (from matplotlib->lime) (2.4.7)\n",
            "Requirement already satisfied: python-dateutil>=2.1 in /usr/local/lib/python3.7/dist-packages (from matplotlib->lime) (2.8.1)\n",
            "Requirement already satisfied: cycler>=0.10 in /usr/local/lib/python3.7/dist-packages (from matplotlib->lime) (0.10.0)\n",
            "Requirement already satisfied: joblib>=0.11 in /usr/local/lib/python3.7/dist-packages (from scikit-learn>=0.18->lime) (1.0.1)\n",
            "Requirement already satisfied: networkx>=2.0 in /usr/local/lib/python3.7/dist-packages (from scikit-image>=0.12->lime) (2.5.1)\n",
            "Requirement already satisfied: pillow>=4.3.0 in /usr/local/lib/python3.7/dist-packages (from scikit-image>=0.12->lime) (7.1.2)\n",
            "Requirement already satisfied: imageio>=2.3.0 in /usr/local/lib/python3.7/dist-packages (from scikit-image>=0.12->lime) (2.4.1)\n",
            "Requirement already satisfied: PyWavelets>=0.4.0 in /usr/local/lib/python3.7/dist-packages (from scikit-image>=0.12->lime) (1.1.1)\n",
            "Requirement already satisfied: six>=1.5 in /usr/local/lib/python3.7/dist-packages (from python-dateutil>=2.1->matplotlib->lime) (1.15.0)\n",
            "Requirement already satisfied: decorator<5,>=4.3 in /usr/local/lib/python3.7/dist-packages (from networkx>=2.0->scikit-image>=0.12->lime) (4.4.2)\n",
            "Building wheels for collected packages: lime\n",
            "  Building wheel for lime (setup.py) ... \u001b[?25l\u001b[?25hdone\n",
            "  Created wheel for lime: filename=lime-0.2.0.1-cp37-none-any.whl size=283858 sha256=8d8b86de03160cefa5436e747d989f56c358929a14095a35f10a07a16464acca\n",
            "  Stored in directory: /root/.cache/pip/wheels/4c/4f/a5/0bc765457bd41378bf3ce8d17d7495369d6e7ca3b712c60c89\n",
            "Successfully built lime\n",
            "Installing collected packages: lime\n",
            "Successfully installed lime-0.2.0.1\n"
          ],
          "name": "stdout"
        }
      ]
    },
    {
      "cell_type": "code",
      "metadata": {
        "id": "HhIsd5EDGTm2"
      },
      "source": [
        "from lime import lime_image\n",
        "import time"
      ],
      "execution_count": null,
      "outputs": []
    },
    {
      "cell_type": "code",
      "metadata": {
        "id": "ASRXyg7lC7h8"
      },
      "source": [
        "explainer = lime_image.LimeImageExplainer()"
      ],
      "execution_count": null,
      "outputs": []
    },
    {
      "cell_type": "code",
      "metadata": {
        "colab": {
          "base_uri": "https://localhost:8080/",
          "height": 83,
          "referenced_widgets": [
            "0f888f9ad31b4eb39e01d8c0124713ca",
            "3601940662514ace8a158ad1992dddac",
            "e9e0698668af4ff495ef34fdec8d4f8f",
            "f8dd9e84eaba400d80d89b8a8d50d03d",
            "10375c058d7f466abbf30053124018c0",
            "9308b25343574496b322a2f988304a62",
            "bf1ec281e48643ef958c7ac3107c13bb",
            "3315864c99f94ad0af5ba039cffecfa3"
          ]
        },
        "id": "nZ50HCZNDRP6",
        "outputId": "defabc39-745f-485e-f1ab-499db9256835"
      },
      "source": [
        "print(FROG.shape)\n",
        "tmp = time.time()\n",
        "# Hide color is the color for a superpixel turned OFF. Alternatively, if it is NONE, the superpixel will be replaced by the average of its pixels\n",
        "explanation = explainer.explain_instance(FROG, predict_fn, top_labels=2, hide_color=0, num_samples=3000)"
      ],
      "execution_count": null,
      "outputs": [
        {
          "output_type": "stream",
          "text": [
            "(64, 64, 3)\n"
          ],
          "name": "stdout"
        },
        {
          "output_type": "display_data",
          "data": {
            "application/vnd.jupyter.widget-view+json": {
              "model_id": "0f888f9ad31b4eb39e01d8c0124713ca",
              "version_minor": 0,
              "version_major": 2
            },
            "text/plain": [
              "HBox(children=(FloatProgress(value=0.0, max=3000.0), HTML(value='')))"
            ]
          },
          "metadata": {
            "tags": []
          }
        },
        {
          "output_type": "stream",
          "text": [
            "\n"
          ],
          "name": "stdout"
        }
      ]
    },
    {
      "cell_type": "code",
      "metadata": {
        "colab": {
          "base_uri": "https://localhost:8080/",
          "height": 194
        },
        "id": "_ej8q1xTDd53",
        "outputId": "697c6a43-5c73-4d8a-87ff-06ce233e4069"
      },
      "source": [
        "from skimage.segmentation import mark_boundaries\n",
        "temp, mask = explanation.get_image_and_mask(9, positive_only=True, num_features=2, hide_rest=True)\n",
        "fig = plt.figure()\n",
        "fig.set_size_inches((3, 3))\n",
        "ax = plt.Axes(fig, [0., 0., 1., 1.])\n",
        "ax.set_axis_off()\n",
        "plt.axis('off')\n",
        "# plt.set_cmap('viridis')\n",
        "plt.imshow(mark_boundaries(temp / 2 + 0.5, mask)[:,:,0])\n",
        "plt.savefig('lime65fs_hidden.png', dpi=80)\n",
        "\n"
      ],
      "execution_count": null,
      "outputs": [
        {
          "output_type": "display_data",
          "data": {
            "image/png": "[encoded data removed]",
            "text/plain": [
              "<Figure size 216x216 with 1 Axes>"
            ]
          },
          "metadata": {
            "tags": [],
            "needs_background": "light"
          }
        }
      ]
    },
    {
      "cell_type": "code",
      "metadata": {
        "colab": {
          "base_uri": "https://localhost:8080/",
          "height": 194
        },
        "id": "eGM-L4jMR1sB",
        "outputId": "0b19c36a-2a9b-4555-ec22-00d1936e120b"
      },
      "source": [
        "temp, mask = explanation.get_image_and_mask(8, positive_only=True, num_features=2, hide_rest=False)\n",
        "fig = plt.figure()\n",
        "fig.set_size_inches((3, 3))\n",
        "plt.axis('off')\n",
        "plt.imshow(mark_boundaries(temp / 2 + 0.5, mask)[:,:,0])\n",
        "plt.savefig('lime65fs.png', dpi=80)"
      ],
      "execution_count": null,
      "outputs": [
        {
          "output_type": "display_data",
          "data": {
            "image/png": "[encoded data removed]",
            "text/plain": [
              "<Figure size 216x216 with 1 Axes>"
            ]
          },
          "metadata": {
            "tags": [],
            "needs_background": "light"
          }
        }
      ]
    },
    {
      "cell_type": "code",
      "metadata": {
        "id": "R0fP-xXD8Cmu"
      },
      "source": [
        ""
      ],
      "execution_count": null,
      "outputs": []
    }
  ]
}